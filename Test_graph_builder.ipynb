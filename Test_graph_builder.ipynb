{
 "cells": [
  {
   "cell_type": "code",
   "execution_count": 1,
   "metadata": {},
   "outputs": [],
   "source": [
    "import File\n",
    "from Graph import Graph\n",
    "import os\n",
    "cwd = os.getcwd()\n",
    "ROOT = cwd + \"\\\\CuraEngine\"\n",
    "\n",
    "graph = Graph(ROOT)\n",
    "graph.build_graph()"
   ]
  },
  {
   "cell_type": "code",
   "execution_count": 2,
   "metadata": {},
   "outputs": [],
   "source": [
    "file: File = graph.files[\"PathOrderMonotonic.h\"]\n",
    "classes = file.classes\n",
    "headers = file.get_headers()"
   ]
  },
  {
   "cell_type": "code",
   "execution_count": 5,
   "metadata": {},
   "outputs": [
    {
     "data": {
      "text/plain": [
       "[name: PathOrderMonotonic.h, path: d:\\my_projects\\python_projects\\cpp_repository_parser\\CuraEngine\\include\\PathOrderMonotonic.h]"
      ]
     },
     "execution_count": 5,
     "metadata": {},
     "output_type": "execute_result"
    }
   ],
   "source": [
    "classes[0].used_in"
   ]
  },
  {
   "cell_type": "code",
   "execution_count": 4,
   "metadata": {},
   "outputs": [
    {
     "data": {
      "text/plain": [
       "[name: FffGcodeWriter.cpp, path: d:\\my_projects\\python_projects\\cpp_repository_parser\\CuraEngine\\src\\FffGcodeWriter.cpp,\n",
       " name: LayerPlan.cpp, path: d:\\my_projects\\python_projects\\cpp_repository_parser\\CuraEngine\\src\\LayerPlan.cpp,\n",
       " name: PathOrderMonotonicTest.cpp, path: d:\\my_projects\\python_projects\\cpp_repository_parser\\CuraEngine\\tests\\PathOrderMonotonicTest.cpp]"
      ]
     },
     "execution_count": 4,
     "metadata": {},
     "output_type": "execute_result"
    }
   ],
   "source": [
    "file.used_in"
   ]
  },
  {
   "cell_type": "code",
   "execution_count": 11,
   "metadata": {},
   "outputs": [
    {
     "name": "stdout",
     "output_type": "stream",
     "text": [
      "Warning: When  cdn_resources is 'local' jupyter notebook has issues displaying graphics on chrome/safari. Use cdn_resources='in_line' or cdn_resources='remote' if you have issues viewing graphics in a notebook.\n"
     ]
    }
   ],
   "source": [
    "from pyvis.network import Network\n",
    "g = Network(notebook=True) # отображение в Блокноте включено"
   ]
  },
  {
   "cell_type": "code",
   "execution_count": 17,
   "metadata": {},
   "outputs": [
    {
     "data": {
      "text/plain": [
       "'infill.h'"
      ]
     },
     "execution_count": 17,
     "metadata": {},
     "output_type": "execute_result"
    }
   ],
   "source": [
    "graph.vertexes[0][0"
   ]
  }
 ],
 "metadata": {
  "kernelspec": {
   "display_name": "Python 3",
   "language": "python",
   "name": "python3"
  },
  "language_info": {
   "codemirror_mode": {
    "name": "ipython",
    "version": 3
   },
   "file_extension": ".py",
   "mimetype": "text/x-python",
   "name": "python",
   "nbconvert_exporter": "python",
   "pygments_lexer": "ipython3",
   "version": "3.10.6"
  }
 },
 "nbformat": 4,
 "nbformat_minor": 2
}
